{
 "cells": [
  {
   "cell_type": "code",
   "execution_count": 109,
   "metadata": {},
   "outputs": [],
   "source": [
    "import warnings\n",
    "warnings.filterwarnings('ignore')\n",
    "import numpy as np\n",
    "import pandas as pd\n",
    "import random\n",
    "import matplotlib.pyplot as plt\n",
    "import seaborn as sns\n",
    "import random\n",
    "import numpy as np\n",
    "import pickle\n",
    "from sklearn.model_selection import GridSearchCV\n",
    "from sklearn.model_selection import LeaveOneOut\n",
    "from sklearn.model_selection import cross_validate\n",
    "from sklearn.metrics.scorer import make_scorer\n",
    "from sklearn.model_selection import cross_val_score\n",
    "from sklearn.metrics import mean_squared_error\n",
    "from sklearn.model_selection import KFold\n",
    "from sklearn.model_selection import train_test_split\n",
    "from sklearn.preprocessing import StandardScaler\n",
    "from sklearn.decomposition import PCA\n",
    "from sklearn.neural_network import MLPRegressor\n",
    "from sklearn.tree import DecisionTreeRegressor\n",
    "from sklearn.ensemble import RandomForestRegressor\n",
    "from sklearn.svm import SVR\n",
    "from sklearn.metrics import mean_squared_error\n",
    "from collections import OrderedDict"
   ]
  },
  {
   "cell_type": "code",
   "execution_count": 110,
   "metadata": {},
   "outputs": [],
   "source": [
    "#leitura de arquivos e conversao de tipos\n",
    "def read_file_convert(path):\n",
    "    file = open(path, 'r')\n",
    "    text = file.readlines()\n",
    "    file.close()\n",
    "    simulations_data = []\n",
    "    val_data = []\n",
    "    dic_data = {}\n",
    "    for row in text[9:30]:\n",
    "        simulations_data.append(row)\n",
    "    for e in simulations_data:\n",
    "        (key, val) = e.split(\":\")\n",
    "        dic_data[str(key)] = val\n",
    "    return dic_data\n",
    "\n",
    "#limpeza dos dados retirando todos os caracteres diferentes de zeros\n",
    "def remove_caracteres(dataset, name_col):\n",
    "    result = []\n",
    "    for value in dataset[name_col]:\n",
    "        result.append(value.strip(' s\\n\\nbit/s\\t%byteMbps'))\n",
    "    dataset[name_col] = result\n",
    "\n",
    "#faz a extracao de dados\n",
    "def extraction_data(u, a, b, c, flag, cam):\n",
    "    u += 1\n",
    "    x = range(1,u)\n",
    "    p1 = [a]\n",
    "    p2 = [b]\n",
    "    p3 = [c]\n",
    "    data = []\n",
    "    data_simulations = pd.DataFrame()\n",
    "    \n",
    "    for j in p2:\n",
    "        for i in p1:\n",
    "            for k in p3:\n",
    "                for n in x:\n",
    "                    s = cam+\"{}-traces/step{}-packetInterval{}-packetSize{}/rodada{}/logMeshSimulation.txt\".format(flag, j,i, k, n)\n",
    "                    dataset = pd.DataFrame([read_file_convert(s)])\n",
    "                    dataset['DistanceBetweenNode'] = j\n",
    "                    dataset['PacketInterval'] = i\n",
    "                    dataset['packetSize'] = k\n",
    "                    data.append(dataset)\n",
    "                data_simulations = pd.concat(data, ignore_index=True)\n",
    "    return data_simulations\n",
    "\n",
    "def transfor_columns(dataset):\n",
    "    dataset.set_axis(['DeliveryRate',\n",
    "                      'Throughput',\n",
    "                      'TxBytes',\n",
    "                      'RxBytes',\n",
    "                      'TxPackets',\n",
    "                      'RxPackets',\n",
    "                      'LostPackets',\n",
    "                      'DelaySum',\n",
    "                      'DelayMean',\n",
    "                      'JitterSum',\n",
    "                      'JitterMean',\n",
    "                      'TimeFirstTxPacket',\n",
    "                      'TimeLastTxPacket',\n",
    "                      'TimeFirstRxPacket',\n",
    "                      'TimeLastRxPacket',\n",
    "                      'MeanTransmittedPacketSize',\n",
    "                      'MeanTransmittedBitrate',\n",
    "                      'MeanHopCount',\n",
    "                      'PacketLossRatio',\n",
    "                      'MeanReceivedPacketSize',\n",
    "                      'MeanReceivedBitrate',\n",
    "                      'DistanceBetweenNode',\n",
    "                      'PacketInterval',\n",
    "                      'packetSize'], \n",
    "                       axis=1, inplace=True)\n",
    "    return dataset\n",
    "\n",
    "def clear_columns(dataset):\n",
    "    remove_caracteres(dataset, 'DelayMean')\n",
    "    remove_caracteres(dataset, 'DelaySum')\n",
    "    remove_caracteres(dataset, 'DeliveryRate')\n",
    "    remove_caracteres(dataset, 'JitterMean')\n",
    "    remove_caracteres(dataset, 'JitterSum')\n",
    "    remove_caracteres(dataset, 'TimeFirstRxPacket')\n",
    "    remove_caracteres(dataset, 'TimeFirstTxPacket')\n",
    "    remove_caracteres(dataset, 'TimeLastRxPacket')\n",
    "    remove_caracteres(dataset, 'TimeLastTxPacket')\n",
    "    remove_caracteres(dataset, 'LostPackets')\n",
    "    remove_caracteres(dataset, 'MeanHopCount')\n",
    "    remove_caracteres(dataset, 'MeanReceivedBitrate')\n",
    "    remove_caracteres(dataset, 'MeanReceivedPacketSize')\n",
    "    remove_caracteres(dataset, 'MeanTransmittedBitrate')\n",
    "    remove_caracteres(dataset, 'MeanTransmittedPacketSize')\n",
    "    remove_caracteres(dataset, 'PacketLossRatio')\n",
    "    remove_caracteres(dataset, 'RxBytes')\n",
    "    remove_caracteres(dataset, 'RxPackets')\n",
    "    remove_caracteres(dataset, 'Throughput')\n",
    "    remove_caracteres(dataset, 'TxBytes')\n",
    "    remove_caracteres(dataset, 'TxPackets')\n",
    "\n",
    "    return dataset\n",
    "\n",
    "def selection_variables(dataset):\n",
    "    data = OrderedDict(\n",
    "    {\n",
    "        'distanceBetweenNode': dataset['DistanceBetweenNode'],\n",
    "        'packetInterval': dataset['PacketInterval'],\n",
    "        'packetSize': dataset['packetSize'],\n",
    "        'deliveryRate': dataset['DeliveryRate']\n",
    "    })\n",
    "\n",
    "    df = pd.DataFrame(data)\n",
    "\n",
    "    df['distanceBetweenNode'] = df['distanceBetweenNode'].astype('int64')\n",
    "    df['packetSize'] = df['packetSize'].astype('int64')\n",
    "    df['packetInterval'] = df['packetInterval'].astype('float')\n",
    "    df['deliveryRate'] = df['deliveryRate'].astype('float')\n",
    "\n",
    "    return df\n",
    "\n",
    "def create_dataset(u, a, b, c, flag, cam, i):\n",
    "    dataset = extraction_data(u, a, b[i], c, flag, cam)\n",
    "    dataset = clear_columns(transfor_columns(dataset))\n",
    "    df = selection_variables(dataset)\n",
    "    df2 = df.iloc[0, 0:3].values\n",
    "    data = OrderedDict(\n",
    "    {\n",
    "        'distanceBetweenNode': df2[0],\n",
    "        'packetInterval': df2[1],\n",
    "        'packetSize': df2[2],\n",
    "        'deliveryRate': sum(df.iloc[:,3].values)//df['deliveryRate'].count()\n",
    "    })\n",
    "    new_data_aux = pd.DataFrame(data, index=[i])\n",
    "    return new_data_aux\n",
    "\n",
    "def data_formulation(u, flag, cam, a, b, c):\n",
    "    i = 1\n",
    "    data_simulations = create_dataset(u, a, b, c, flag, cam, 0)\n",
    "    while(i < len(b)):\n",
    "        dataset_aux = create_dataset(u, a, b, c, flag, cam, i)\n",
    "        data_simulations = pd.concat([data_simulations, dataset_aux])\n",
    "        i += 1\n",
    "    return data_simulations"
   ]
  },
  {
   "cell_type": "code",
   "execution_count": 111,
   "metadata": {},
   "outputs": [],
   "source": [
    "def definitions_algorithms(name):\n",
    "    if name == 'MLP':\n",
    "        mlp_parameters = {'alpha':[0.1],\n",
    "                          'activation':['logistic', 'tanh', 'relu'],\n",
    "                          'learning_rate_init':[0.001],\n",
    "                          'solver':['lbfgs'],\n",
    "                          'hidden_layer_sizes':[10, 20, 30, 40, 50, 60, 70, 80, 90, 100]}\n",
    "        return mlp_parameters\n",
    "    if name == 'DT':\n",
    "        dt_parameters = {'criterion':['mae','mse'],\n",
    "                         'splitter':['best']}\n",
    "        return dt_parameters\n",
    "    if name == 'RF':\n",
    "        rf_parameters = {'criterion':['mae','mse'],\n",
    "                         'n_estimators':[10, 20, 30, 40, 50, 60, 70, 80, 90, 100]}\n",
    "        return rf_parameters\n",
    "    if name == 'SVR':\n",
    "        svr_parameters = {'kernel':['poly', 'rbf'],\n",
    "                          'gamma':[0, 10, 100],\n",
    "                          'C':[1.0]}\n",
    "        return svr_parameters\n",
    "        \n",
    "def optimize_parameters(reg, x, y, parameters):\n",
    "    grid_search = GridSearchCV(reg, parameters, cv=2, refit=False)\n",
    "    grid_search.fit(x, y)\n",
    "    return grid_search.best_params_\n",
    "\n",
    "#Cross-validation\n",
    "def experiment_folds(st, reg, x, y):\n",
    "    inter = range(1,31)\n",
    "    scores = []\n",
    "    errors = []\n",
    "    models = {}\n",
    "    mean_scores = []\n",
    "    mean_errors = []\n",
    "\n",
    "    for i in inter:\n",
    "        kf = KFold(n_splits=5, random_state=i, shuffle=False)\n",
    "        kf.get_n_splits(x)\n",
    "        for train_index, test_index in kf.split(x):\n",
    "            x_train, x_test = x[train_index], x[test_index]\n",
    "            y_train, y_test = y[train_index], y[test_index]\n",
    "            \n",
    "            reg.fit(x_train, y_train)\n",
    "            scores.append(reg.score(x_test, y_test))\n",
    "            rmse = np.sqrt(mean_squared_error(y_test, reg.predict(x_test)))\n",
    "            errors.append(rmse)\n",
    "\n",
    "        mean_scores.append(np.mean(scores))\n",
    "        mean_errors.append(np.mean(errors))\n",
    "    \n",
    "    return np.mean(mean_scores), np.mean(mean_errors), reg\n",
    "\n",
    "#Leave one out\n",
    "def experiment_folds2(st, reg, x, y):\n",
    "    inter = range(1,31)\n",
    "    scores = []\n",
    "    errors = []\n",
    "    models = {}\n",
    "    mean_scores = []\n",
    "    mean_errors = []\n",
    "    loo = LeaveOneOut()\n",
    "    loo.get_n_splits(x)\n",
    "    \n",
    "    for train_index, test_index in loo.split(x):\n",
    "        x_train, x_test = x[train_index], x[test_index]\n",
    "        y_train, y_test = y[train_index], y[test_index]\n",
    "        \n",
    "        reg.fit(x_train, y_train)\n",
    "        scores.append(reg.score(x_test, y_test))\n",
    "        rmse = np.sqrt(mean_squared_error(y_test, reg.predict(x_test)))\n",
    "        errors.append(rmse)\n",
    "        \n",
    "    mean_scores.append(np.mean(scores))\n",
    "    mean_errors.append(np.mean(errors))\n",
    "    \n",
    "    return np.mean(mean_scores), np.mean(mean_errors), reg\n",
    "\n",
    "def extraction_model(st, i, cam):\n",
    "    filename = cam+'modelos/model_{}_{}.sav'.format(st, i)\n",
    "\n",
    "    model = pickle.load(open(filename, 'rb'))\n",
    "    return model\n",
    "\n",
    "def interval_confidence(dataset):\n",
    "    mean = np.mean(dataset)\n",
    "    std = np.std(dataset)\n",
    "    se = std/np.sqrt(len(dataset))\n",
    "    v_critico = 0.95/2\n",
    "    inter_confi = v_critico*se\n",
    "    return inter_confi\n",
    "\n",
    "def salve_model(st, model, cam):\n",
    "    filename = cam+'modelos/model_{}.sav'.format(st)\n",
    "    pickle.dump(model, open(filename, 'wb'))"
   ]
  },
  {
   "cell_type": "code",
   "execution_count": 112,
   "metadata": {},
   "outputs": [],
   "source": [
    "def create_graphic(mod, med, set_test, simu, pred, predi, vali):\n",
    "    plt.scatter(set_test, simu)\n",
    "    plt.scatter(set_test, pred)\n",
    "    plt.title('Simulação x Predição - Modelo: '+mod)\n",
    "    plt.plot(vali[:,0], vali[:,1], color='blue')\n",
    "    plt.plot(predi[:,0], predi[:,1], color='red')\n",
    "    plt.legend(('Simulação', 'Predição'), loc='lower left')\n",
    "    plt.xlabel('Principal componente')\n",
    "    plt.ylabel(med)\n",
    "    plt.savefig('result_'+mod+'.png')"
   ]
  },
  {
   "cell_type": "code",
   "execution_count": 113,
   "metadata": {
    "scrolled": false
   },
   "outputs": [
    {
     "data": {
      "text/html": [
       "<div>\n",
       "<style scoped>\n",
       "    .dataframe tbody tr th:only-of-type {\n",
       "        vertical-align: middle;\n",
       "    }\n",
       "\n",
       "    .dataframe tbody tr th {\n",
       "        vertical-align: top;\n",
       "    }\n",
       "\n",
       "    .dataframe thead th {\n",
       "        text-align: right;\n",
       "    }\n",
       "</style>\n",
       "<table border=\"1\" class=\"dataframe\">\n",
       "  <thead>\n",
       "    <tr style=\"text-align: right;\">\n",
       "      <th></th>\n",
       "      <th>distanceBetweenNode</th>\n",
       "      <th>packetInterval</th>\n",
       "      <th>packetSize</th>\n",
       "      <th>deliveryRate</th>\n",
       "    </tr>\n",
       "  </thead>\n",
       "  <tbody>\n",
       "    <tr>\n",
       "      <td>0</td>\n",
       "      <td>50.0</td>\n",
       "      <td>0.01</td>\n",
       "      <td>256.0</td>\n",
       "      <td>100.0</td>\n",
       "    </tr>\n",
       "    <tr>\n",
       "      <td>1</td>\n",
       "      <td>60.0</td>\n",
       "      <td>0.01</td>\n",
       "      <td>256.0</td>\n",
       "      <td>100.0</td>\n",
       "    </tr>\n",
       "    <tr>\n",
       "      <td>2</td>\n",
       "      <td>70.0</td>\n",
       "      <td>0.01</td>\n",
       "      <td>256.0</td>\n",
       "      <td>100.0</td>\n",
       "    </tr>\n",
       "    <tr>\n",
       "      <td>3</td>\n",
       "      <td>80.0</td>\n",
       "      <td>0.01</td>\n",
       "      <td>256.0</td>\n",
       "      <td>100.0</td>\n",
       "    </tr>\n",
       "    <tr>\n",
       "      <td>4</td>\n",
       "      <td>90.0</td>\n",
       "      <td>0.01</td>\n",
       "      <td>256.0</td>\n",
       "      <td>100.0</td>\n",
       "    </tr>\n",
       "    <tr>\n",
       "      <td>5</td>\n",
       "      <td>95.0</td>\n",
       "      <td>0.01</td>\n",
       "      <td>256.0</td>\n",
       "      <td>99.0</td>\n",
       "    </tr>\n",
       "    <tr>\n",
       "      <td>6</td>\n",
       "      <td>100.0</td>\n",
       "      <td>0.01</td>\n",
       "      <td>256.0</td>\n",
       "      <td>93.0</td>\n",
       "    </tr>\n",
       "  </tbody>\n",
       "</table>\n",
       "</div>"
      ],
      "text/plain": [
       "   distanceBetweenNode  packetInterval  packetSize  deliveryRate\n",
       "0                 50.0            0.01       256.0         100.0\n",
       "1                 60.0            0.01       256.0         100.0\n",
       "2                 70.0            0.01       256.0         100.0\n",
       "3                 80.0            0.01       256.0         100.0\n",
       "4                 90.0            0.01       256.0         100.0\n",
       "5                 95.0            0.01       256.0          99.0\n",
       "6                100.0            0.01       256.0          93.0"
      ]
     },
     "execution_count": 113,
     "metadata": {},
     "output_type": "execute_result"
    }
   ],
   "source": [
    "#Resultados para a taxa de entrega\n",
    "u = 30\n",
    "flag = 1\n",
    "cam = \"C:/Users/joyce/Documents/joyce/dados-tcc/\"\n",
    "cam2 = \"C:/Users/joyce/Documents/joyce/programsimulations/extraction_data/\"\n",
    "\n",
    "a = '0.01'\n",
    "b = ['50', '60', '70', '80', '90', '95', '100']\n",
    "c = '256'\n",
    "\n",
    "data_simulations = data_formulation(u, flag, cam, a, b, c)\n",
    "data_simulations"
   ]
  },
  {
   "cell_type": "code",
   "execution_count": 114,
   "metadata": {},
   "outputs": [],
   "source": [
    "# x representa o dataset de treino e possui 23 colunas sem o atributo alvo \n",
    "data_x = data_simulations.iloc[:, 0:3].values\n",
    "# y representa o atributo alvo de x\n",
    "data_y = data_simulations.iloc[:, 3:4].values"
   ]
  },
  {
   "cell_type": "code",
   "execution_count": 115,
   "metadata": {},
   "outputs": [
    {
     "data": {
      "text/plain": [
       "array([[5.00e+01, 1.00e-02, 2.56e+02],\n",
       "       [6.00e+01, 1.00e-02, 2.56e+02],\n",
       "       [7.00e+01, 1.00e-02, 2.56e+02],\n",
       "       [8.00e+01, 1.00e-02, 2.56e+02],\n",
       "       [9.00e+01, 1.00e-02, 2.56e+02],\n",
       "       [9.50e+01, 1.00e-02, 2.56e+02],\n",
       "       [1.00e+02, 1.00e-02, 2.56e+02]])"
      ]
     },
     "execution_count": 115,
     "metadata": {},
     "output_type": "execute_result"
    }
   ],
   "source": [
    "data_x"
   ]
  },
  {
   "cell_type": "code",
   "execution_count": 116,
   "metadata": {},
   "outputs": [
    {
     "data": {
      "text/plain": [
       "array([[100.],\n",
       "       [100.],\n",
       "       [100.],\n",
       "       [100.],\n",
       "       [100.],\n",
       "       [ 99.],\n",
       "       [ 93.]])"
      ]
     },
     "execution_count": 116,
     "metadata": {},
     "output_type": "execute_result"
    }
   ],
   "source": [
    "data_y"
   ]
  },
  {
   "cell_type": "code",
   "execution_count": 117,
   "metadata": {},
   "outputs": [
    {
     "name": "stdout",
     "output_type": "stream",
     "text": [
      "(5, 3)\n",
      "(5, 1)\n",
      "(2, 3)\n",
      "(2, 1)\n"
     ]
    }
   ],
   "source": [
    "random.seed(1)\n",
    "x_train, x_test, y_train, y_test = train_test_split(data_x, data_y, test_size = 0.2, random_state = 0)\n",
    "\n",
    "print(x_train.shape)\n",
    "print(y_train.shape)\n",
    "\n",
    "print(x_test.shape) \n",
    "print(y_test.shape)"
   ]
  },
  {
   "cell_type": "code",
   "execution_count": 118,
   "metadata": {},
   "outputs": [],
   "source": [
    "# Escalonamento de dados\n",
    "scaler_train_x = StandardScaler()\n",
    "scaler_train_y = StandardScaler()\n",
    "scaler_test_x = StandardScaler()\n",
    "scaler_test_y = StandardScaler()\n",
    "\n",
    "u = scaler_test_x.fit_transform(x_test)\n",
    "x = scaler_train_x.fit_transform(x_train)\n",
    "y = scaler_train_y.fit_transform(y_train)\n",
    "v = scaler_test_y.fit_transform(y_test)"
   ]
  },
  {
   "cell_type": "code",
   "execution_count": 119,
   "metadata": {},
   "outputs": [
    {
     "data": {
      "text/plain": [
       "array([[-1.],\n",
       "       [ 1.]])"
      ]
     },
     "execution_count": 119,
     "metadata": {},
     "output_type": "execute_result"
    }
   ],
   "source": [
    "#Uso de PCA no conjunto de teste para exibicao dos resultados de forma grafica\n",
    "pca = PCA(n_components=1)\n",
    "set_test = pca.fit_transform(u)\n",
    "set_test"
   ]
  },
  {
   "cell_type": "code",
   "execution_count": 120,
   "metadata": {},
   "outputs": [
    {
     "name": "stdout",
     "output_type": "stream",
     "text": [
      "Resultados após treinamento dos algoritmos\n",
      "Média do score ->  nan\n",
      "Média do erro ->  0.9365370188064015\n",
      "Modelo -> MLPRegressor(activation='tanh', alpha=0.1, batch_size='auto', beta_1=0.9,\n",
      "             beta_2=0.999, early_stopping=False, epsilon=1e-08,\n",
      "             hidden_layer_sizes=80, learning_rate='constant',\n",
      "             learning_rate_init=0.001, max_iter=200, momentum=0.9,\n",
      "             n_iter_no_change=10, nesterovs_momentum=True, power_t=0.5,\n",
      "             random_state=None, shuffle=True, solver='lbfgs', tol=0.0001,\n",
      "             validation_fraction=0.1, verbose=False, warm_start=False)\n"
     ]
    }
   ],
   "source": [
    "#Treinamento da MLP\n",
    "mlp = optimize_parameters(MLPRegressor(), x, y, definitions_algorithms('MLP'))\n",
    "\n",
    "mlp = MLPRegressor(alpha=mlp['alpha'],\n",
    "                   activation=mlp['activation'], \n",
    "                   learning_rate_init=mlp['learning_rate_init'], \n",
    "                   solver=mlp['solver'], \n",
    "                   hidden_layer_sizes=mlp['hidden_layer_sizes'])\n",
    "\n",
    "score, error, mlp = experiment_folds2('mlp', mlp, x, y)\n",
    "\n",
    "print(\"Resultados após treinamento dos algoritmos\")\n",
    "print(\"Média do score -> \", score)\n",
    "print(\"Média do erro -> \", error)\n",
    "print(\"Modelo ->\", mlp)"
   ]
  },
  {
   "cell_type": "code",
   "execution_count": 121,
   "metadata": {},
   "outputs": [
    {
     "name": "stdout",
     "output_type": "stream",
     "text": [
      "Valores da simulação - conjunto de validação -> \n",
      " [[ 93.]\n",
      " [100.]]\n",
      "Valores da predição - MLP -> \n",
      " [91.42162617119527, 98.50318920738184]\n"
     ]
    }
   ],
   "source": [
    "#Carregamento do modelo\n",
    "print(\"Valores da simulação - conjunto de validação -> \\n\", scaler_test_y.inverse_transform(v))\n",
    "simu1 = sorted(scaler_test_y.inverse_transform(v))\n",
    "print(\"Valores da predição - MLP -> \\n\", sorted(scaler_test_y.inverse_transform(mlp.predict(u))))\n",
    "pred1 = sorted(scaler_test_y.inverse_transform(mlp.predict(u)))"
   ]
  },
  {
   "cell_type": "code",
   "execution_count": 122,
   "metadata": {},
   "outputs": [],
   "source": [
    "#Comparação entre valores da simulação e valores preditos - Taxa de entrega\n",
    "vali = np.array(sorted([(x[0],y[0]) for x,y in zip(set_test, simu1)]))\n",
    "predi1 = np.array(sorted([(x[0],y) for x,y in zip(set_test, pred1)]))"
   ]
  },
  {
   "cell_type": "code",
   "execution_count": 123,
   "metadata": {},
   "outputs": [
    {
     "data": {
      "text/plain": [
       "array([[ -1.,  93.],\n",
       "       [  1., 100.]])"
      ]
     },
     "execution_count": 123,
     "metadata": {},
     "output_type": "execute_result"
    }
   ],
   "source": [
    "vali = np.array(sorted([(x[0],y[0]) for x,y in zip(set_test, simu1)]))\n",
    "vali"
   ]
  },
  {
   "cell_type": "code",
   "execution_count": 124,
   "metadata": {},
   "outputs": [
    {
     "data": {
      "text/plain": [
       "array([-1.,  1.])"
      ]
     },
     "execution_count": 124,
     "metadata": {},
     "output_type": "execute_result"
    }
   ],
   "source": [
    "vali[:,0]"
   ]
  },
  {
   "cell_type": "code",
   "execution_count": 125,
   "metadata": {},
   "outputs": [
    {
     "data": {
      "image/png": "[encoded data removed]",
      "text/plain": [
       "<Figure size 432x288 with 1 Axes>"
      ]
     },
     "metadata": {
      "needs_background": "light"
     },
     "output_type": "display_data"
    }
   ],
   "source": [
    "create_graphic('mlp', 'Taxa de entrega', set_test, simu1, pred1, predi1, vali)"
   ]
  },
  {
   "cell_type": "code",
   "execution_count": 126,
   "metadata": {},
   "outputs": [],
   "source": [
    "scaler_train_x = StandardScaler()\n",
    "scaler_train_y = StandardScaler()\n",
    "\n",
    "x1 = scaler_train_x.fit_transform(data_x)\n",
    "y1 = scaler_train_y.fit_transform(data_y)"
   ]
  },
  {
   "cell_type": "code",
   "execution_count": 127,
   "metadata": {},
   "outputs": [
    {
     "data": {
      "text/plain": [
       "array([[-1.61107515,  0.        ,  0.        ],\n",
       "       [-1.03274048,  0.        ,  0.        ],\n",
       "       [-0.45440581,  0.        ,  0.        ],\n",
       "       [ 0.12392886,  0.        ,  0.        ],\n",
       "       [ 0.70226353,  0.        ,  0.        ],\n",
       "       [ 0.99143086,  0.        ,  0.        ],\n",
       "       [ 1.2805982 ,  0.        ,  0.        ]])"
      ]
     },
     "execution_count": 127,
     "metadata": {},
     "output_type": "execute_result"
    }
   ],
   "source": [
    "x1"
   ]
  },
  {
   "cell_type": "code",
   "execution_count": 128,
   "metadata": {},
   "outputs": [
    {
     "data": {
      "text/plain": [
       "array([[ 0.47304992],\n",
       "       [ 0.47304992],\n",
       "       [ 0.47304992],\n",
       "       [ 0.47304992],\n",
       "       [ 0.47304992],\n",
       "       [ 0.05913124],\n",
       "       [-2.42438082]])"
      ]
     },
     "execution_count": 128,
     "metadata": {},
     "output_type": "execute_result"
    }
   ],
   "source": [
    "y1"
   ]
  },
  {
   "cell_type": "code",
   "execution_count": 129,
   "metadata": {},
   "outputs": [
    {
     "data": {
      "text/plain": [
       "array([[ 1.61107515],\n",
       "       [ 1.03274048],\n",
       "       [ 0.45440581],\n",
       "       [-0.12392886],\n",
       "       [-0.70226353],\n",
       "       [-0.99143086],\n",
       "       [-1.2805982 ]])"
      ]
     },
     "execution_count": 129,
     "metadata": {},
     "output_type": "execute_result"
    }
   ],
   "source": [
    "#Uso de PCA no conjunto de teste para exibicao dos resultados de forma grafica\n",
    "pca = PCA(n_components=1)\n",
    "set_test = pca.fit_transform(x1)\n",
    "set_test"
   ]
  },
  {
   "cell_type": "code",
   "execution_count": 130,
   "metadata": {},
   "outputs": [
    {
     "name": "stdout",
     "output_type": "stream",
     "text": [
      "Valores da simulação - conjunto de validação -> \n",
      " [[100.]\n",
      " [100.]\n",
      " [100.]\n",
      " [100.]\n",
      " [100.]\n",
      " [ 99.]\n",
      " [ 93.]]\n",
      "Valores da predição - MLP -> \n",
      " [93.79963575519143, 95.40856207875045, 97.38612372135324, 99.70630966178577, 100.17546853256486, 100.2410889163463, 100.2496834993268]\n"
     ]
    }
   ],
   "source": [
    "#Carregamento do modelo\n",
    "print(\"Valores da simulação - conjunto de validação -> \\n\", scaler_train_y.inverse_transform(y1))\n",
    "simu1 = sorted(scaler_train_y.inverse_transform(y1))\n",
    "print(\"Valores da predição - MLP -> \\n\", sorted(scaler_train_y.inverse_transform(mlp.predict(x1))))\n",
    "pred1 = sorted(scaler_train_y.inverse_transform(mlp.predict(x1)))"
   ]
  },
  {
   "cell_type": "code",
   "execution_count": 131,
   "metadata": {},
   "outputs": [],
   "source": [
    "#Comparação entre valores da simulação e valores preditos - Taxa de entrega\n",
    "vali = np.array(sorted([(x1[0],y1[0]) for x1,y1 in zip(set_test, simu1)]))\n",
    "predi1 = np.array(sorted([(x1[0],y1) for x1,y1 in zip(set_test, pred1)]))"
   ]
  },
  {
   "cell_type": "code",
   "execution_count": 132,
   "metadata": {},
   "outputs": [
    {
     "data": {
      "text/plain": [
       "array([[ -1.2805982 , 100.        ],\n",
       "       [ -0.99143086, 100.        ],\n",
       "       [ -0.70226353, 100.        ],\n",
       "       [ -0.12392886, 100.        ],\n",
       "       [  0.45440581, 100.        ],\n",
       "       [  1.03274048,  99.        ],\n",
       "       [  1.61107515,  93.        ]])"
      ]
     },
     "execution_count": 132,
     "metadata": {},
     "output_type": "execute_result"
    }
   ],
   "source": [
    "vali = np.array(sorted([(x1[0],y1[0]) for x1,y1 in zip(set_test, simu1)]))\n",
    "vali"
   ]
  },
  {
   "cell_type": "code",
   "execution_count": 133,
   "metadata": {},
   "outputs": [
    {
     "data": {
      "image/png": "[encoded data removed]",
      "text/plain": [
       "<Figure size 432x288 with 1 Axes>"
      ]
     },
     "metadata": {
      "needs_background": "light"
     },
     "output_type": "display_data"
    }
   ],
   "source": [
    "create_graphic('mlp', 'Taxa de entrega', set_test, simu1, pred1, predi1, vali)"
   ]
  },
  {
   "cell_type": "code",
   "execution_count": null,
   "metadata": {},
   "outputs": [],
   "source": []
  }
 ],
 "metadata": {
  "kernelspec": {
   "display_name": "Python 3",
   "language": "python",
   "name": "python3"
  },
  "language_info": {
   "codemirror_mode": {
    "name": "ipython",
    "version": 3
   },
   "file_extension": ".py",
   "mimetype": "text/x-python",
   "name": "python",
   "nbconvert_exporter": "python",
   "pygments_lexer": "ipython3",
   "version": "3.7.4"
  }
 },
 "nbformat": 4,
 "nbformat_minor": 2
}
